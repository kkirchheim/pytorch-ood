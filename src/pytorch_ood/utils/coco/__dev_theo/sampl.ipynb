{
 "cells": [
  {
   "cell_type": "code",
   "execution_count": 2,
   "metadata": {},
   "outputs": [],
   "source": [
    "import requests\n",
    "import zipfile\n",
    "import io\n",
    "\n"
   ]
  },
  {
   "cell_type": "code",
   "execution_count": 7,
   "metadata": {},
   "outputs": [],
   "source": [
    "# URL of the repository\n",
    "repo_url = 'https://github.com/hendrycks/anomaly-seg'\n",
    "\n",
    "# Folder you want to download\n",
    "folder_path = 'anomaly-seg-master/seg'\n",
    "\n",
    "# Download the repository as a zip file\n",
    "response = requests.get(repo_url + '/archive/master.zip')\n",
    "\n",
    "# Make sure the request was successful\n",
    "assert response.status_code == 200"
   ]
  },
  {
   "cell_type": "code",
   "execution_count": 8,
   "metadata": {},
   "outputs": [],
   "source": [
    "\n",
    "\n",
    "# Open the zip file in memory\n",
    "zip_file = zipfile.ZipFile(io.BytesIO(response.content))\n",
    "\n",
    "# Extract the specific folder to the current directory\n",
    "for file in zip_file.namelist():\n",
    "    # print(file)\n",
    "    if file.startswith(folder_path):\n",
    "        zip_file.extract(file)"
   ]
  },
  {
   "cell_type": "code",
   "execution_count": 11,
   "metadata": {},
   "outputs": [],
   "source": [
    "import os\n",
    "from os.path import join\n",
    "root = \"/mnt/nas/tlanger/Hiwi/pytorch-ood/src/pytorch_ood/utils/coco\"\n",
    "os.rename(join(root, \"anomaly-seg-master/seg\"), join(root, \"seg\"  ))"
   ]
  },
  {
   "cell_type": "code",
   "execution_count": 13,
   "metadata": {},
   "outputs": [],
   "source": [
    "import shutil\n",
    "shutil.rmtree(join(root, \"anomaly-seg-master\") )"
   ]
  },
  {
   "cell_type": "code",
   "execution_count": null,
   "metadata": {},
   "outputs": [],
   "source": []
  }
 ],
 "metadata": {
  "kernelspec": {
   "display_name": "IOS",
   "language": "python",
   "name": "python3"
  },
  "language_info": {
   "codemirror_mode": {
    "name": "ipython",
    "version": 3
   },
   "file_extension": ".py",
   "mimetype": "text/x-python",
   "name": "python",
   "nbconvert_exporter": "python",
   "pygments_lexer": "ipython3",
   "version": "3.12.1"
  }
 },
 "nbformat": 4,
 "nbformat_minor": 2
}
